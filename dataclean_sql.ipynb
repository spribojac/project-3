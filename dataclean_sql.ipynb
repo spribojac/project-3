{
 "cells": [
  {
   "cell_type": "code",
   "execution_count": 184,
   "id": "0477770d",
   "metadata": {},
   "outputs": [],
   "source": [
    "# Import dependencies.\n",
    "import sqlite3\n",
    "import pandas as pd\n",
    "\n",
    "# Python SQL toolkit and Object Relational Mapper\n",
    "import sqlalchemy\n",
    "from sqlalchemy.ext.declarative import declarative_base\n",
    "from sqlalchemy.ext.automap import automap_base\n",
    "from sqlalchemy.orm import Session, sessionmaker\n",
    "from sqlalchemy import create_engine, text, inspect, func, MetaData, Table, Column, Integer, String, Float\n",
    "from flask import Flask, render_template\n",
    "import json"
   ]
  },
  {
   "cell_type": "code",
   "execution_count": 185,
   "id": "1f2e1e0f",
   "metadata": {},
   "outputs": [],
   "source": [
    "ss = pd.read_csv(\"spotify_songs.csv\")"
   ]
  },
  {
   "cell_type": "code",
   "execution_count": 186,
   "id": "2b2e3185",
   "metadata": {
    "scrolled": true
   },
   "outputs": [],
   "source": [
    "drop_ss = ss.dropna()"
   ]
  },
  {
   "cell_type": "code",
   "execution_count": 187,
   "id": "bfd4b3d7",
   "metadata": {},
   "outputs": [],
   "source": [
    "any_null_values = drop_ss.isnull().any()\n",
    "#print(any_null_values)"
   ]
  },
  {
   "cell_type": "code",
   "execution_count": 188,
   "id": "f7261e37",
   "metadata": {},
   "outputs": [],
   "source": [
    "#drop_ss.columns"
   ]
  },
  {
   "cell_type": "code",
   "execution_count": 189,
   "id": "89a7616f",
   "metadata": {},
   "outputs": [],
   "source": [
    "rename_ss = drop_ss.rename(columns={'track_id': 'track_id', \n",
    "                           'track_name': 'track_name',\n",
    "                           'track_artist': 'artist',\n",
    "                           'track_popularity': 'popularity',\n",
    "                           'track_album_id': 'album_id',\n",
    "                           'track_album_name': 'album_name',\n",
    "                           'track_album_release_date': 'album_release_date',\n",
    "                           'playlist_name': 'playlist_name',\n",
    "                           'playlist_id': 'playlist_id',\n",
    "                           'playlist_genre': 'playlist_genre',\n",
    "                           'playlist_subgenre': 'playlist_subgenre',\n",
    "                           'danceability': 'danceability',\n",
    "                           'energy': 'energy',\n",
    "                           'key': 'key',\n",
    "                           'loudness': 'loudness',\n",
    "                           'mode': 'mode',\n",
    "                           'speechiness': 'speechiness',\n",
    "                           'acousticness': 'acousticness',\n",
    "                           'instrumentalness': 'instrumentalness',\n",
    "                           'liveness': 'liveness',\n",
    "                           'valence': 'valence',\n",
    "                           'tempo': 'tempo',\n",
    "                           'duration_ms': 'duration_ms'})"
   ]
  },
  {
   "cell_type": "code",
   "execution_count": 190,
   "id": "39d3a2c9",
   "metadata": {},
   "outputs": [],
   "source": [
    "#for index, row in rename_ss.iterrows():\n",
    "    #track_artist = row['artist']\n",
    "    #track_name = row['track_name']\n",
    "    #album_name = row['album_name']\n",
    "    #print(f'\\nTrack Artist: {track_artist}\\nTrack Name: {track_name}\\nAlbum Name: {album_name}\\n')"
   ]
  },
  {
   "cell_type": "code",
   "execution_count": 191,
   "id": "c0b31550",
   "metadata": {},
   "outputs": [],
   "source": [
    "rename_ss['duration_seconds'] = rename_ss['duration_ms'] / 1000"
   ]
  },
  {
   "cell_type": "code",
   "execution_count": 192,
   "id": "57b898b5",
   "metadata": {},
   "outputs": [],
   "source": [
    "rename_ss['minutes'], rename_ss['seconds'] = divmod(rename_ss['duration_seconds'], 60)"
   ]
  },
  {
   "cell_type": "code",
   "execution_count": 193,
   "id": "d6cf2b95",
   "metadata": {},
   "outputs": [],
   "source": [
    "rename_ss['duration_minutes_seconds'] = rename_ss[['minutes', 'seconds']].apply(lambda x: '{:.0f}.{:02.0f}'.format(x[0], x[1]), axis=1)"
   ]
  },
  {
   "cell_type": "code",
   "execution_count": 194,
   "id": "a3d3cf2c",
   "metadata": {},
   "outputs": [],
   "source": [
    "rename_ss = rename_ss.drop(columns=[\"duration_seconds\", \"minutes\", \"seconds\"])"
   ]
  },
  {
   "cell_type": "code",
   "execution_count": 195,
   "id": "777c6af1",
   "metadata": {},
   "outputs": [],
   "source": [
    "rename_ss[\"duration_minutes_seconds\"] = rename_ss[\"duration_minutes_seconds\"].astype(float)"
   ]
  },
  {
   "cell_type": "code",
   "execution_count": 196,
   "id": "678f38ac",
   "metadata": {},
   "outputs": [],
   "source": [
    "#rename_ss[\"duration_minutes_seconds\"].dtype"
   ]
  },
  {
   "cell_type": "code",
   "execution_count": 197,
   "id": "4e559a46",
   "metadata": {
    "scrolled": true
   },
   "outputs": [],
   "source": [
    "column_types = rename_ss.dtypes\n",
    "#print(column_types)"
   ]
  },
  {
   "cell_type": "code",
   "execution_count": 198,
   "id": "5ac65299",
   "metadata": {},
   "outputs": [],
   "source": [
    "# creates a sqlite database and establishes a connection\n",
    "conn = sqlite3.connect('spotify_songs.sqlite')"
   ]
  },
  {
   "cell_type": "code",
   "execution_count": 199,
   "id": "e1938c39",
   "metadata": {},
   "outputs": [
    {
     "data": {
      "text/plain": [
       "32828"
      ]
     },
     "execution_count": 199,
     "metadata": {},
     "output_type": "execute_result"
    }
   ],
   "source": [
    "# reads the spotify_songs database (ss) into the sqlite database\n",
    "rename_ss.to_sql(\"spotify_songs\", conn, if_exists=\"replace\")"
   ]
  },
  {
   "cell_type": "code",
   "execution_count": 200,
   "id": "a66acd97",
   "metadata": {},
   "outputs": [],
   "source": [
    "# commits changes to the sqlite database\n",
    "conn.commit()"
   ]
  },
  {
   "cell_type": "code",
   "execution_count": 201,
   "id": "96c2f7a3",
   "metadata": {},
   "outputs": [],
   "source": [
    "# closes the connection now that we are done with it\n",
    "conn.close()"
   ]
  },
  {
   "cell_type": "code",
   "execution_count": 202,
   "id": "f50b17d4",
   "metadata": {},
   "outputs": [],
   "source": [
    "# creates a sqlite database engine using SQLAlchemy to allow SQLAlchemy to interact with the database \n",
    "engine = create_engine(\"sqlite:///spotify_songs.sqlite\", echo=False)"
   ]
  },
  {
   "cell_type": "code",
   "execution_count": 205,
   "id": "285a3395",
   "metadata": {},
   "outputs": [
    {
     "name": "stdout",
     "output_type": "stream",
     "text": [
      "['spotify_songs']\n"
     ]
    }
   ],
   "source": [
    "tables = inspect(engine).get_table_names()\n",
    "print(tables)"
   ]
  },
  {
   "cell_type": "code",
   "execution_count": 206,
   "id": "76661523",
   "metadata": {},
   "outputs": [],
   "source": [
    "columns = inspect(engine).get_columns('spotify_songs')\n",
    "#for column in columns:\n",
    "    #print(column['name'])"
   ]
  },
  {
   "cell_type": "code",
   "execution_count": 207,
   "id": "b79be841",
   "metadata": {},
   "outputs": [],
   "source": [
    "metadata = MetaData(bind=engine)\n",
    "metadata.reflect()"
   ]
  },
  {
   "cell_type": "code",
   "execution_count": 208,
   "id": "b32c7aa2",
   "metadata": {},
   "outputs": [
    {
     "name": "stdout",
     "output_type": "stream",
     "text": [
      "dict_keys(['spotify_songs'])\n"
     ]
    }
   ],
   "source": [
    "print(metadata.tables.keys())"
   ]
  },
  {
   "cell_type": "code",
   "execution_count": 209,
   "id": "ed2151a6",
   "metadata": {},
   "outputs": [],
   "source": [
    "# produces a Session class and creates an instance/object (session) to interact with the database\n",
    "Session = sessionmaker(bind=engine)\n",
    "session = Session()"
   ]
  },
  {
   "cell_type": "code",
   "execution_count": 210,
   "id": "6d1d2c58",
   "metadata": {},
   "outputs": [],
   "source": [
    "results = session.execute(\"SELECT * FROM spotify_songs LIMIT 10\").fetchall()\n",
    "#print(results)"
   ]
  },
  {
   "cell_type": "code",
   "execution_count": 211,
   "id": "73c0b872",
   "metadata": {},
   "outputs": [],
   "source": [
    "Base = declarative_base()"
   ]
  },
  {
   "cell_type": "code",
   "execution_count": 212,
   "id": "c5be9a18",
   "metadata": {
    "scrolled": true
   },
   "outputs": [],
   "source": [
    "class SpotifySongs(Base):\n",
    "    __tablename__ = 'spotify_songs'\n",
    "    track_id = Column(Integer, primary_key=True)\n",
    "    track_name = Column(String(225))\n",
    "    artist = Column(String(225))\n",
    "    popularity = Column(Integer)\n",
    "    album_id = Column(String(225))\n",
    "    album_name = Column(String(225))\n",
    "    album_release_date = Column(String(225))\n",
    "    playlist_name = Column(String(225))\n",
    "    playlist_id = Column(String(225))\n",
    "    playlist_genre = Column(String(225))\n",
    "    playlist_subgenre = Column(String(225))\n",
    "    danceability = Column(Float)\n",
    "    energy = Column(Float)\n",
    "    key = Column(Integer)\n",
    "    loudness = Column(Float)\n",
    "    mode = Column(Integer)\n",
    "    speechiness = Column(Float)\n",
    "    acousticness = Column(Float)\n",
    "    instrumentalness = Column(Float)\n",
    "    liveness = Column(Float)\n",
    "    valence = Column(Float)\n",
    "    tempo = Column(Float)\n",
    "    duration_ms = Column(Integer)\n",
    "    duration_minutes_seconds = Column(Float)  "
   ]
  },
  {
   "cell_type": "code",
   "execution_count": 213,
   "id": "e7390188",
   "metadata": {},
   "outputs": [],
   "source": [
    "#Base.metadata.drop_all(engine)"
   ]
  },
  {
   "cell_type": "code",
   "execution_count": 214,
   "id": "3def5e90",
   "metadata": {},
   "outputs": [],
   "source": [
    "results = session.query(SpotifySongs).all()"
   ]
  },
  {
   "cell_type": "code",
   "execution_count": 220,
   "id": "51f499fe",
   "metadata": {},
   "outputs": [
    {
     "name": "stdout",
     "output_type": "stream",
     "text": [
      "SONG: \"Changes\"\n",
      "ALBUM: The Ultimate Collection\n",
      "LENGTH: 4.42\n",
      "\n",
      "SONG: \"Paranoid\"\n",
      "ALBUM: Greatest Hits\n",
      "LENGTH: 2.48\n",
      "\n",
      "SONG: \"Iron Man - 2014 Remaster\"\n",
      "ALBUM: Paranoid (2014 Remaster)\n",
      "LENGTH: 5.55\n",
      "\n",
      "SONG: \"Paranoid - 2016 Remaster\"\n",
      "ALBUM: Paranoid (2014 Remaster)\n",
      "LENGTH: 2.48\n",
      "\n",
      "SONG: \"Iron Man\"\n",
      "ALBUM: Paranoid\n",
      "LENGTH: 5.54\n",
      "\n",
      "SONG: \"Paranoid\"\n",
      "ALBUM: Paranoid (Remastered)\n",
      "LENGTH: 2.48\n",
      "\n",
      "SONG: \"Paranoid\"\n",
      "ALBUM: Paranoid (2009 Remastered Version)\n",
      "LENGTH: 2.48\n",
      "\n",
      "SONG: \"Paranoid\"\n",
      "ALBUM: Absolute Rock Anthems\n",
      "LENGTH: 2.46\n",
      "\n",
      "SONG: \"Iron Man\"\n",
      "ALBUM: Lords Of Dogtown\n",
      "LENGTH: 5.54\n",
      "\n",
      "SONG: \"Tomorrow's Dream\"\n",
      "ALBUM: Black Sabbath Vol. 4 (Remastered)\n",
      "LENGTH: 3.09\n",
      "\n",
      "SONG: \"After Forever\"\n",
      "ALBUM: Master Of Reality (Remastered)\n",
      "LENGTH: 5.26\n",
      "\n",
      "SONG: \"Looking for Today\"\n",
      "ALBUM: Sabbath Bloody Sabbath (Remastered)\n",
      "LENGTH: 5.01\n",
      "\n",
      "SONG: \"It's Alright\"\n",
      "ALBUM: Technical Ecstasy (Remastered)\n",
      "LENGTH: 3.59\n",
      "\n",
      "SONG: \"Heaven And Hell\"\n",
      "ALBUM: Heaven & Hell (Deluxe Edition)\n",
      "LENGTH: 6.58\n",
      "\n",
      "SONG: \"Paranoid\"\n",
      "ALBUM: Paranoid\n",
      "LENGTH: 2.48\n",
      "\n",
      "SONG: \"Iron Man\"\n",
      "ALBUM: Greatest Hits\n",
      "LENGTH: 5.54\n",
      "\n"
     ]
    }
   ],
   "source": [
    "for row in results:\n",
    "    if row.artist == \"Black Sabbath\":\n",
    "        print(f'SONG: \"{row.track_name}\"\\nALBUM: {row.album_name}\\nLENGTH: {row.duration_minutes_seconds}\\n')"
   ]
  },
  {
   "cell_type": "code",
   "execution_count": null,
   "id": "abc37533",
   "metadata": {},
   "outputs": [],
   "source": []
  }
 ],
 "metadata": {
  "kernelspec": {
   "display_name": "Python 3 (ipykernel)",
   "language": "python",
   "name": "python3"
  },
  "language_info": {
   "codemirror_mode": {
    "name": "ipython",
    "version": 3
   },
   "file_extension": ".py",
   "mimetype": "text/x-python",
   "name": "python",
   "nbconvert_exporter": "python",
   "pygments_lexer": "ipython3",
   "version": "3.11.4"
  }
 },
 "nbformat": 4,
 "nbformat_minor": 5
}
